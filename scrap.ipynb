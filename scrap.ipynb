{
 "cells": [
  {
   "cell_type": "code",
   "execution_count": 63,
   "metadata": {
    "collapsed": true
   },
   "outputs": [],
   "source": [
    "from requests import get\n",
    "from bs4 import BeautifulSoup\n",
    "import re"
   ]
  },
  {
   "cell_type": "code",
   "execution_count": 1,
   "metadata": {
    "collapsed": false
   },
   "outputs": [
    {
     "name": "stdout",
     "output_type": "stream",
     "text": [
      "Enter the author name: \"noman islam\"\n"
     ]
    }
   ],
   "source": [
    "author = input(\"Enter the author name: \")"
   ]
  },
  {
   "cell_type": "code",
   "execution_count": 2,
   "metadata": {
    "collapsed": true
   },
   "outputs": [],
   "source": [
    "url = 'https://scholar.google.com.pk/scholar?hl=en&as_sdt=0%2C5&q='+author"
   ]
  },
  {
   "cell_type": "code",
   "execution_count": 5,
   "metadata": {
    "collapsed": false
   },
   "outputs": [],
   "source": [
    "response = get(url)"
   ]
  },
  {
   "cell_type": "code",
   "execution_count": 9,
   "metadata": {
    "collapsed": true
   },
   "outputs": [],
   "source": [
    "html_soup = BeautifulSoup(response.text, 'html.parser')"
   ]
  },
  {
   "cell_type": "code",
   "execution_count": 46,
   "metadata": {
    "collapsed": false
   },
   "outputs": [],
   "source": [
    "articles = html_soup.find_all('div',{'class':'gs_ri'})"
   ]
  },
  {
   "cell_type": "code",
   "execution_count": 69,
   "metadata": {
    "collapsed": false
   },
   "outputs": [
    {
     "name": "stdout",
     "output_type": "stream",
     "text": [
      "Articles by:  \"noman islam\"\n",
      "\n",
      "Title: A review of wireless sensors and networks' applications in agriculture\n",
      "AZ Abbasi, N Islam, ZA Shaikh - Computer Standards & Interfaces, 2014 - Elsevier\n",
      "['Cited by 338']\n",
      "\n",
      "\n",
      "\n",
      "Title: A novel approach to service discovery in mobile adhoc network\n",
      "N Islam, ZA Shaikh - Networking and Communications …, 2008 - ieeexplore.ieee.org\n",
      "['Cited by 23']\n",
      "\n",
      "\n",
      "\n",
      "Title: Semantic Web: Choosing the right methodologies, tools and standards\n",
      "N Islam, AZ Abbasi, ZA Shaikh - Information and Emerging …, 2010 - ieeexplore.ieee.org\n",
      "['Cited by 21']\n",
      "\n",
      "\n",
      "\n",
      "Title: Security issues in mobile ad hoc network\n",
      "N Islam, ZA Shaikh - Wireless networks and security, 2013 - Springer\n",
      "['Cited by 20']\n",
      "\n",
      "\n",
      "\n",
      "Title: TODE: A dot net based tool for ontology development and editing\n",
      "N Islam, MS Siddiqui, ZA Shaikh - Computer Engineering and …, 2010 - ieeexplore.ieee.org\n",
      "['Cited by 19']\n",
      "\n",
      "\n",
      "\n",
      "Title: An integrated framework to develop context-aware sensor grid for agriculture\n",
      "ZA Aqeel-ur-Rehman, NA Shaikh… - Australian Journal of …, 2010 - researchgate.net\n",
      "['Cited by 11']\n",
      "\n",
      "\n",
      "\n",
      "Title: FIPA and MASIF standards: a comparative study and strategies for integration\n",
      "N Islam, GA Mallah, ZA Shaikh - Proceedings of the 2010 National …, 2010 - dl.acm.org\n",
      "['Cited by 9']\n",
      "\n",
      "\n",
      "\n",
      "Title: Towards a robust and scalable semantic service discovery scheme for mobile ad hoc network\n",
      "N Islam, ZA Shaikh - Pakistan Journal of Engineering and …, 2016 - journal.uet.edu.pk\n",
      "['Cited by 8']\n",
      "\n",
      "\n",
      "\n",
      "Title: Service discovery in mobile ad hoc networks using association rules mining\n",
      "N Islam, ZA Shaikh - … Conference, 2009. INMIC 2009. IEEE 13th …, 2009 - ieeexplore.ieee.org\n",
      "['Cited by 6']\n",
      "\n",
      "\n",
      "\n",
      "Title [CITATION][C] Aqeel-ur-Rehman,“A Network Layer Service Discovery Approach for Mobile Ad hoc Network Using Association Rules Mining\n",
      "N Islam, NA Shaikh, G Ali, ZA Shaikh - Australian Journal of Basic and Applied …, 2010\n",
      "['Cited by 6']\n",
      "\n",
      "\n",
      "\n"
     ]
    }
   ],
   "source": [
    "print(\"Articles by: \", author)\n",
    "print()\n",
    "for a in articles:\n",
    "    try:\n",
    "        print(\"Title:\",a.h3.a.text)\n",
    "    except:\n",
    "        print(\"Title\",a.h3.text)        \n",
    "    print(a.find_all(\"div\",{'class':\"gs_a\"})[0].text)\n",
    "    print(a.findAll(text=re.compile('^Cited by')))\n",
    "    print(\"\\n\\n\")"
   ]
  },
  {
   "cell_type": "code",
   "execution_count": null,
   "metadata": {
    "collapsed": true
   },
   "outputs": [],
   "source": []
  }
 ],
 "metadata": {
  "anaconda-cloud": {},
  "kernelspec": {
   "display_name": "Python [conda env:Anaconda3]",
   "language": "python",
   "name": "conda-env-Anaconda3-py"
  },
  "language_info": {
   "codemirror_mode": {
    "name": "ipython",
    "version": 3
   },
   "file_extension": ".py",
   "mimetype": "text/x-python",
   "name": "python",
   "nbconvert_exporter": "python",
   "pygments_lexer": "ipython3",
   "version": "3.5.4"
  }
 },
 "nbformat": 4,
 "nbformat_minor": 1
}
